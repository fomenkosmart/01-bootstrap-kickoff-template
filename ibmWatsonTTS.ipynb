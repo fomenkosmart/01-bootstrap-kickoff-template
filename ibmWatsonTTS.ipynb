{
  "nbformat": 4,
  "nbformat_minor": 0,
  "metadata": {
    "colab": {
      "name": "ibmWatsonTTS.ipynb",
      "provenance": [],
      "authorship_tag": "ABX9TyNn7H02kWOQS+fcwDeUVAU/",
      "include_colab_link": true
    },
    "kernelspec": {
      "name": "python3",
      "display_name": "Python 3"
    },
    "language_info": {
      "name": "python"
    }
  },
  "cells": [
    {
      "cell_type": "markdown",
      "metadata": {
        "id": "view-in-github",
        "colab_type": "text"
      },
      "source": [
        "<a href=\"https://colab.research.google.com/github/fomenkosmart/01-bootstrap-kickoff-template/blob/master/ibmWatsonTTS.ipynb\" target=\"_parent\"><img src=\"https://colab.research.google.com/assets/colab-badge.svg\" alt=\"Open In Colab\"/></a>"
      ]
    },
    {
      "cell_type": "code",
      "metadata": {
        "colab": {
          "base_uri": "https://localhost:8080/"
        },
        "id": "kQYT29dSZXkL",
        "outputId": "aff5c58b-0e2a-422a-ac3f-814c14e4bad6"
      },
      "source": [
        "pip install --upgrade \"ibm-watson>=4.4.0\""
      ],
      "execution_count": null,
      "outputs": [
        {
          "output_type": "stream",
          "text": [
            "Collecting ibm-watson>=4.4.0\n",
            "\u001b[?25l  Downloading https://files.pythonhosted.org/packages/9b/88/395d7d52df29f321ae1150cf9b5a71cef8611570230502597c427bc1e9d9/ibm-watson-5.1.0.tar.gz (382kB)\n",
            "\u001b[K     |████████████████████████████████| 389kB 6.4MB/s \n",
            "\u001b[?25hRequirement already satisfied, skipping upgrade: requests<3.0,>=2.0 in /usr/local/lib/python3.7/dist-packages (from ibm-watson>=4.4.0) (2.23.0)\n",
            "Requirement already satisfied, skipping upgrade: python_dateutil>=2.5.3 in /usr/local/lib/python3.7/dist-packages (from ibm-watson>=4.4.0) (2.8.1)\n",
            "Collecting websocket-client==0.48.0\n",
            "\u001b[?25l  Downloading https://files.pythonhosted.org/packages/8a/a1/72ef9aa26cfe1a75cee09fc1957e4723add9de098c15719416a1ee89386b/websocket_client-0.48.0-py2.py3-none-any.whl (198kB)\n",
            "\u001b[K     |████████████████████████████████| 204kB 9.6MB/s \n",
            "\u001b[?25hCollecting ibm_cloud_sdk_core>=3.3.6\n",
            "  Downloading https://files.pythonhosted.org/packages/99/55/ece4d000ca41c052c7331a0d14150e9c9c15e4f65943036cfff3bcd14cc7/ibm-cloud-sdk-core-3.10.0.tar.gz\n",
            "Requirement already satisfied, skipping upgrade: idna<3,>=2.5 in /usr/local/lib/python3.7/dist-packages (from requests<3.0,>=2.0->ibm-watson>=4.4.0) (2.10)\n",
            "Requirement already satisfied, skipping upgrade: urllib3!=1.25.0,!=1.25.1,<1.26,>=1.21.1 in /usr/local/lib/python3.7/dist-packages (from requests<3.0,>=2.0->ibm-watson>=4.4.0) (1.24.3)\n",
            "Requirement already satisfied, skipping upgrade: certifi>=2017.4.17 in /usr/local/lib/python3.7/dist-packages (from requests<3.0,>=2.0->ibm-watson>=4.4.0) (2020.12.5)\n",
            "Requirement already satisfied, skipping upgrade: chardet<4,>=3.0.2 in /usr/local/lib/python3.7/dist-packages (from requests<3.0,>=2.0->ibm-watson>=4.4.0) (3.0.4)\n",
            "Requirement already satisfied, skipping upgrade: six>=1.5 in /usr/local/lib/python3.7/dist-packages (from python_dateutil>=2.5.3->ibm-watson>=4.4.0) (1.15.0)\n",
            "Collecting PyJWT<3.0.0,>=2.0.1\n",
            "  Downloading https://files.pythonhosted.org/packages/3f/32/d5d3cab27fee7f6b22d7cd7507547ae45d52e26030fa77d1f83d0526c6e5/PyJWT-2.1.0-py3-none-any.whl\n",
            "Building wheels for collected packages: ibm-watson, ibm-cloud-sdk-core\n",
            "  Building wheel for ibm-watson (setup.py) ... \u001b[?25l\u001b[?25hdone\n",
            "  Created wheel for ibm-watson: filename=ibm_watson-5.1.0-cp37-none-any.whl size=375439 sha256=e64a0e1aaf0c817eca11c61dd1474e9ac95b388e40587542f540504d67f6a235\n",
            "  Stored in directory: /root/.cache/pip/wheels/49/6d/cf/1d91261b96363da78bf9b02699fd2262e6b5dad179500690c1\n",
            "  Building wheel for ibm-cloud-sdk-core (setup.py) ... \u001b[?25l\u001b[?25hdone\n",
            "  Created wheel for ibm-cloud-sdk-core: filename=ibm_cloud_sdk_core-3.10.0-cp37-none-any.whl size=60912 sha256=7923d0267bcd182ba65f0ec57a0802bd1533aa2b1a923d4a9c5b05a1e7c9df1f\n",
            "  Stored in directory: /root/.cache/pip/wheels/4a/4e/48/b02ad6dc75235fc4c0742d4e99571fe7d729e60bf365105be4\n",
            "Successfully built ibm-watson ibm-cloud-sdk-core\n",
            "Installing collected packages: websocket-client, PyJWT, ibm-cloud-sdk-core, ibm-watson\n",
            "Successfully installed PyJWT-2.1.0 ibm-cloud-sdk-core-3.10.0 ibm-watson-5.1.0 websocket-client-0.48.0\n"
          ],
          "name": "stdout"
        }
      ]
    },
    {
      "cell_type": "code",
      "metadata": {
        "colab": {
          "base_uri": "https://localhost:8080/",
          "height": 34
        },
        "id": "m7K73AgGeyI5",
        "outputId": "2b49e726-bbb9-4eb3-e1d0-ff470e033c89"
      },
      "source": [
        "from ibm_watson import TextToSpeechV1\n",
        "from ibm_cloud_sdk_core.authenticators import IAMAuthenticator\n",
        "from google.colab import files\n",
        "#enter your API key\n",
        "APIkey = 'SmT6A0_TKg8LIK-10ROiUrNQ_G1Iqnbp8v8ddUQfmsjE'\n",
        "#enter your url\n",
        "TTSurl = 'https://api.eu-de.text-to-speech.watson.cloud.ibm.com'\n",
        "\n",
        "inputTXT = \"Hello and welcome to another XTON quick take. In this episode, I show you how to unlock a secured field. This quick take has two parts: First — “what is a secured field” and the second — “what does unlock means”. Let’s take a look at “what is a secured field”. A secured field is any field in a record, that is used to conceal or secure its object from a specific user or group and this is done using permissions. It’s all you need to know what a Secured field is. The second part is the Unlocking. When you want to unlock the secured field (which basically means you want to expose that secured of that concealed object). You simply come here and click the unlock button. This will allow you  then you are the user of the system to see what it is that’s being that was secured. Now let’s log in as a user who does have the unlock permission. Here I do not have the same permissions as the service administrator account and I will go and will access the same record as an auditor. You can see here try to do it side by side that the secured fields are still secured obviously: I cannot see them, cannot click on them or select them or download those objects nor do I have the unlock button. While we’re here, you can also notice that you can connect. Even though this user cannot see the password, this user still has the ability to use this system to connect. So, let’s switch back to the Service Administrator view. Let’s click the actual button. And what happens when you click to unlock? The client is communicating with the database in order to reveal that secured field. And one more important thing in this video is the Audit log. Down here for the record, you have the Audit log option. The Audit log for this view is going to tell you everything that happened with this record. You can see the couple of events that we went through in these past few minutes. We have unlocks, we have locks, timestamps, who has been performed them. All these events will be recorded for you and accessible so that if you ever need to investigate, you’ll have all the audit information available to you.\"\n",
        "\n",
        "authenticator = IAMAuthenticator(APIkey)\n",
        "text_to_speech = TextToSpeechV1(\n",
        "    authenticator = authenticator\n",
        ")\n",
        "\n",
        "text_to_speech.set_service_url(TTSurl)\n",
        "\n",
        "with open('audioOutput.wav', 'wb') as audio_file:\n",
        "  audio_file.write(text_to_speech.synthesize(inputTXT\n",
        "                                             , voice = 'en-US_EmilyV3Voice'# for more voices go to here https://cloud.ibm.com/docs/text-to-speech?topic=text-to-speech-voices\n",
        "                                             , accept = 'audio/wav').get_result().content)\n",
        "  files.download('audioOutput.wav')\n",
        "\n"
      ],
      "execution_count": null,
      "outputs": [
        {
          "output_type": "display_data",
          "data": {
            "application/javascript": [
              "\n",
              "    async function download(id, filename, size) {\n",
              "      if (!google.colab.kernel.accessAllowed) {\n",
              "        return;\n",
              "      }\n",
              "      const div = document.createElement('div');\n",
              "      const label = document.createElement('label');\n",
              "      label.textContent = `Downloading \"${filename}\": `;\n",
              "      div.appendChild(label);\n",
              "      const progress = document.createElement('progress');\n",
              "      progress.max = size;\n",
              "      div.appendChild(progress);\n",
              "      document.body.appendChild(div);\n",
              "\n",
              "      const buffers = [];\n",
              "      let downloaded = 0;\n",
              "\n",
              "      const channel = await google.colab.kernel.comms.open(id);\n",
              "      // Send a message to notify the kernel that we're ready.\n",
              "      channel.send({})\n",
              "\n",
              "      for await (const message of channel.messages) {\n",
              "        // Send a message to notify the kernel that we're ready.\n",
              "        channel.send({})\n",
              "        if (message.buffers) {\n",
              "          for (const buffer of message.buffers) {\n",
              "            buffers.push(buffer);\n",
              "            downloaded += buffer.byteLength;\n",
              "            progress.value = downloaded;\n",
              "          }\n",
              "        }\n",
              "      }\n",
              "      const blob = new Blob(buffers, {type: 'application/binary'});\n",
              "      const a = document.createElement('a');\n",
              "      a.href = window.URL.createObjectURL(blob);\n",
              "      a.download = filename;\n",
              "      div.appendChild(a);\n",
              "      a.click();\n",
              "      div.remove();\n",
              "    }\n",
              "  "
            ],
            "text/plain": [
              "<IPython.core.display.Javascript object>"
            ]
          },
          "metadata": {
            "tags": []
          }
        },
        {
          "output_type": "display_data",
          "data": {
            "application/javascript": [
              "download(\"download_4b4e65c6-45ef-4cc8-bfe8-c450e7ec4e50\", \"audioOutput.wav\", 4355638)"
            ],
            "text/plain": [
              "<IPython.core.display.Javascript object>"
            ]
          },
          "metadata": {
            "tags": []
          }
        }
      ]
    }
  ]
}